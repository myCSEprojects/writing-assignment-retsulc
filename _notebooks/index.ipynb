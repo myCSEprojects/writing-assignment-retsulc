{
 "cells": [
  {
   "cell_type": "markdown",
   "metadata": {},
   "source": [
    "<h1><center>Topic Name</center></h1>\n",
    "<h4><center>\n",
    "<a style=\"text-decoration:none\" href=\"https://author1.github.io/\">Author 1</a>, IIT Gandhinagar, <a style=\"text-decoration:none\" href=\"mailto:<author1>@iitgn.ac.in\">author1@iitgn.ac.in</a>\n",
    "<br><br>\n",
    "<a style=\"text-decoration:none\" href=\"https://author2.github.io/\">Author 2</a>, IIT Gandhinagar, <a style=\"text-decoration:none\" href=\"mailto:<author2>@iitgn.ac.in\">author2@iitgn.ac.in</a>\n",
    "<br><br>\n",
    "<a style=\"text-decoration:none\" href=\"https://author3.github.io/\">Author 3</a>, IIT Gandhinagar, <a style=\"text-decoration:none\" href=\"mailto:<author3>@iitgn.ac.in\">author3@iitgn.ac.in</a>\n",
    "</center></h4>"
   ]
  },
  {
   "cell_type": "markdown",
   "metadata": {},
   "source": [
    "[![Repo](https://img.shields.io/badge/GitHub-<repo_name>-brightgreen)](https://github.com/<repo_user>/<repo_name>)"
   ]
  },
  {
   "cell_type": "code",
   "execution_count": 1,
   "metadata": {},
   "outputs": [
    {
     "data": {
      "text/html": [
       "<button type=\"button\" class=\"btn btn-outline-danger\"  onclick=\"codeToggle();\">Toggle Code</button>"
      ],
      "text/plain": [
       "<IPython.core.display.HTML object>"
      ]
     },
     "execution_count": 1,
     "metadata": {},
     "output_type": "execute_result"
    }
   ],
   "source": [
    "from IPython.display import HTML\n",
    "HTML('''<button type=\"button\" class=\"btn btn-outline-danger\"  onclick=\"codeToggle();\">Toggle Code</button>''')"
   ]
  }
 ],
 "metadata": {
  "interpreter": {
   "hash": "954f08fc9f5d86f62094661f3dbbe50a7cd2a944f2614c59717ae6a7d84de0b9"
  },
  "kernelspec": {
   "display_name": "Python 3.9.7 ('base')",
   "language": "python",
   "name": "python3"
  },
  "language_info": {
   "codemirror_mode": {
    "name": "ipython",
    "version": 3
   },
   "file_extension": ".py",
   "mimetype": "text/x-python",
   "name": "python",
   "nbconvert_exporter": "python",
   "pygments_lexer": "ipython3",
   "version": "3.9.7"
  },
  "orig_nbformat": 4
 },
 "nbformat": 4,
 "nbformat_minor": 2
}
