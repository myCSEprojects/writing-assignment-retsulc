{
 "cells": [
  {
   "cell_type": "markdown",
   "metadata": {},
   "source": [
    "# Writing Assignment \n",
    "## CS328 2022\n",
    "\n",
    "\n",
    "\n",
    "  \n",
    "\n"
   ]
  },
  {
   "cell_type": "markdown",
   "metadata": {},
   "source": [
    "### Contributing\n",
    "- For the writing-assignment, the changes need to be made in `_notebooks/index.ipynb`. \n",
    "- Other notebooks will not be evaluated.\n",
    "- Students are free to create and edit new notebooks to try and test features on the HTML outputs.\n",
    "- Data Files (CSV, json, etc.) needs to be placed in `_notebooks/data` directory. All asset files (images, gif) need to be placed in `_notebooks/assets` directory.\n",
    "- As a good practive, the large files in data directory should be in compressed format (gzip compression, etc).\n",
    "- Add the `upstream` remote. This saves a reference to the main Writing-Assignment repository, which you can use to keep your repository synchronized with the latest changes.\n",
    "    ```git remote add upstream git@github.com:cs328-2022/writing-assignment.git``\n",
    "- Check that the upstream and origin remote aliases are configured correctly by running `git remote -v` which should display:\n",
    "    ```\n",
    "    origin  git@github.com:CS328-Spring-2022/writing-assignment-<team_name>.git (fetch)\n",
    "    origin  git@github.com:CS328-Spring-2022/writing-assignment-<team_name>.git (push)\n",
    "    upstream        git@github.com:cs328-2022/writing-assignment.git (fetch)\n",
    "    upstream        git@github.com:cs328-2022/writing-assignment.git (push)\n",
    "    ```\n",
    "- Synchronize your main branch with the upstream/main branch, more details on [GitHub Docs](https://docs.github.com/en/pull-requests/collaborating-with-pull-requests/working-with-forks/syncing-a-fork):\n",
    "    ```\n",
    "    git checkout main\n",
    "    git fetch upstream\n",
    "    git merge upstream/main --allow-unrelated-histories\n",
    "    ```\n",
    "We may push some new changes to the main repository and would ask all to synchronize their repositories using the main repository changes with the above fetch and merge command."
   ]
  },
  {
   "cell_type": "markdown",
   "metadata": {},
   "source": [
    "### Building HTML output on local system\n",
    "1. Install the python dependencies with `pip install -r requirements.txt`.\n",
    "2. Convert all notebooks in `_notebooks` folder to HTML using \n",
    "    ```bash\n",
    "    jupyter nbconvert _notebooks/*.ipynb --to html --output-dir=_html --HTMLExporter.theme=dark\n",
    "    chmod +x utils/process_html.sh\n",
    "    utils/process_html.sh\n",
    "    ```\n",
    "    **Note1:** The bash script `process_html.sh` inserts link to `_html/style.css` in each generated HTML output file. So the CSS file `_html/style.css` won't work without running this command on each build.   \n",
    "    **Note2:** For light-theme remove `--HTMLExporter.theme=dark` from the first command. For light theme in build, remove `--HTMLExporter.theme=dark` from line `29` in `.github/workflows/deploy.yml`.\n",
    "\n",
    "3. The output HTML files would be stored in folder `_html`.\n",
    "4. To change the styling of the html files, edit `_html/style.css`. This CSS is applied to all of the notebooks. "
   ]
  },
  {
   "cell_type": "markdown",
   "metadata": {},
   "source": [
    "### Hosting on [Netlify](https://www.netlify.com/)\n",
    "- **The repository need to be kept private**.\n",
    "- As GitHub pages requires pro account for hosting private repositories, the websites need to be hosted on Netlify.\n",
    "- On every `push` to the repository, the HTML output is generated and pushed to the `gh-pages` branch of the repository via Github actions.\n",
    "    **Note:**: Sometimes the github actions are not triggered in forked or generated from template repositories. To overcome this, make a tiny non-significant change to `.github/workflows/deploy.yml` such as adding new-line at the end of file or changing the name of github action in line `1` of `.github/workflows/deploy.yml` and push the new changes. This should solve the problem and github actions should be triggered normally on every push from now on. Doing this once is enough.\n",
    "- Deploy the github repository on Netlify following this [guide](https://www.netlify.com/blog/2016/09/29/a-step-by-step-guide-deploying-on-netlify/).\n",
    "- Make sure to choose deploy/production branch as `gh-pages` and not `main` branch. \n",
    "- Give an appropriate sitename in the site settings.\n",
    "- Finally the website link would look like `https://<site_name>.netlify.app`\n",
    "- Update the Netlify links in the `README.md` with your website links.\n",
    "\n",
    "Once this is done, all changes to github repository should reflect on the netlify website within few minutes after each push."
   ]
  },
  {
   "cell_type": "markdown",
   "metadata": {},
   "source": [
    "### Interactive Notebooks\n",
    "- **Bonus marks for making the notebooks interactive**\n",
    "- [Plotly](https://plotly.com/python/) is recommended for adding interactive visualizations.\n",
    "- Matplotlib animations are also recommended for making notebooks interactive.\n",
    "- Maplotlib animations are not rendered in HTML by default. It needs to be enabled in the notebook by the following snippet:\n",
    "```python\n",
    "from matplotlib import rc\n",
    "rc('animation', html='jshtml')\n",
    "```"
   ]
  },
  {
   "cell_type": "markdown",
   "metadata": {},
   "source": [
    "### What would be considered in evaluation?\n",
    "1. Link to the Netlify website (put the website links in README file)\n",
    "2. From the code repository:\n",
    "   -  `index.html` in the gh-pages brach\n",
    "   - `index.ipynb` in the main branch"
   ]
  },
  {
   "cell_type": "markdown",
   "metadata": {},
   "source": [
    "### Doubts/QnA"
   ]
  },
  {
   "cell_type": "markdown",
   "metadata": {},
   "source": [
    "We will be using [GitHub Discussions](https://github.com/cs328-2022/writing-assignment/discussions) on the main `Writing-Assignment` repository for resolving doubts or any other concern."
   ]
  }
 ],
 "metadata": {
  "interpreter": {
   "hash": "6465a0fc9fb060d65e4de75d291069377ea847c8a8460823b21cfde5035a2571"
  },
  "kernelspec": {
   "display_name": "Python 3.9.7 ('cs328')",
   "language": "python",
   "name": "python3"
  },
  "language_info": {
   "name": "python",
   "version": "3.9.7"
  },
  "orig_nbformat": 4
 },
 "nbformat": 4,
 "nbformat_minor": 2
}
