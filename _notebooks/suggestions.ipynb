{
 "cells": [
  {
   "cell_type": "markdown",
   "metadata": {},
   "source": [
    "# Suggestions (based on initial overview)"
   ]
  },
  {
   "cell_type": "markdown",
   "metadata": {},
   "source": [
    "- As mentioned in the instructions, please mention your Netlify Website link in the README.md of the GitHub repository."
   ]
  },
  {
   "cell_type": "markdown",
   "metadata": {},
   "source": [
    "- Remove unnecessary outputs and warnings from the Jupyter Notebook. You can always \"clear output\" the output of a particular cell in Jupyter.\n",
    "For suppressing warnings, put   \n",
    "\n",
    "    ```python\n",
    "    import warnings\n",
    "    warnings.filterwarnings('ignore')\n",
    "    ```\n",
    "    at the start of the notebook."
   ]
  },
  {
   "cell_type": "markdown",
   "metadata": {},
   "source": [
    "- We noticed that the \"code\" occupies almost the entire screen as compared to the main writing part. If a person wants to focus more on the writing and visualization part, then code should be hidden.\n",
    "- You are free to change the look and feel (theme, font-style, color, etc.) of the page. Don't have to stick to the dark theme. ✨ Feel free to play around with the CSS and Javascript in the generated HTML output.\n",
    "- We noticed that some of you had to make commits to the repository, just to trigger deploy worflow. You can try this: [Adding functionality to manually trigger deploy action #12](https://github.com/cs328-2022/writing-assignment/discussions/12)"
   ]
  },
  {
   "cell_type": "markdown",
   "metadata": {},
   "source": [
    "## Hiding Code in Generated output\n",
    "Choose any one of the two ways to get this (only one, not both):\n",
    "### Preferred Way (Using Javascript)\n",
    "- Please refer: [Adding Toggle Code Button functionality in HTML output #11](https://github.com/cs328-2022/writing-assignment/discussions/11)\n",
    "\n",
    "### Easy Way (--no-input argument in nbconvert)\n",
    "- In `jupyter nbconvert` command, add argument `--no-input`.\n",
    "- Add this argument to `jupyter nbconvert` in `.github/worflows/deploy.yml` as well.\n"
   ]
  },
  {
   "cell_type": "markdown",
   "metadata": {},
   "source": [
    "## ipywidgets and more"
   ]
  },
  {
   "cell_type": "markdown",
   "metadata": {},
   "source": [
    "- `ipywidgets` like `Interact` won't work in the generated output HTML file, as they require a running python backend to work. So remove the ipywidgets from the notebook. I found `Hugging Face Spaces` the easiest way to add sliders and widgets to the notebook. \n",
    "\n",
    "    Refer: [Adding running models, interactive widgets using Hugging Face Spaces in Notebook #13]((https://github.com/cs328-2022/writing-assignment/discussions/13))"
   ]
  },
  {
   "cell_type": "markdown",
   "metadata": {},
   "source": [
    "## Embedded files not found (Videos, etc.)\n",
    "For this we have give a general view of how deploy action works. In short, when deploy is triggered, a GitHub machine first downloads your repo, runs jupyter nbconvert command and then pushes the generated `_html` folder to `gh-pages` branch of your repo.\n",
    "\n",
    "So any video/img source in your assets folder is not accessible to HTML website. The plots and images are still accessible as they were present in the jupyter notebook output.\n",
    "\n",
    "Now there are various workaround for this: \n",
    "1. Host your videos on YouTube and images (images which are not currently loading due to asset not found) on Imgur. Then access the videos/images via the link.\n",
    "2. (Hard Way, not recommended) Putting those videos/images in _html folder and figuring out a way to access them."
   ]
  },
  {
   "cell_type": "markdown",
   "metadata": {},
   "source": [
    "## Plots"
   ]
  },
  {
   "cell_type": "markdown",
   "metadata": {},
   "source": [
    "- Try to avoid [Spaghetti Plots](https://www.data-to-viz.com/caveat/spaghetti.html)\n",
    "- In some plots, the axis/text is not visible due to black text on dark background.\n",
    "- You can refer to https://www.data-to-viz.com/ for suggestions/common mistakes in plotting.\n",
    "- Use appropriate figure size (to avoid small plot sizes)."
   ]
  }
 ],
 "metadata": {
  "language_info": {
   "name": "python"
  },
  "orig_nbformat": 4
 },
 "nbformat": 4,
 "nbformat_minor": 2
}
